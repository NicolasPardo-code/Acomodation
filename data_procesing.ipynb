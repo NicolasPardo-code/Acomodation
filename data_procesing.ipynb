{
  "nbformat": 4,
  "nbformat_minor": 0,
  "metadata": {
    "colab": {
      "name": "data.ipynb",
      "provenance": [],
      "collapsed_sections": [],
      "toc_visible": true
    },
    "kernelspec": {
      "name": "python3",
      "display_name": "Python 3"
    }
  },
  "cells": [
    {
      "cell_type": "markdown",
      "metadata": {
        "id": "YLkvMrdqBGBG"
      },
      "source": [
        "# Import libraries"
      ]
    },
    {
      "cell_type": "code",
      "metadata": {
        "id": "Jn6f-Zvtza-K"
      },
      "source": [
        "import pandas as pd\r\n",
        "import numpy as np"
      ],
      "execution_count": 1,
      "outputs": []
    },
    {
      "cell_type": "markdown",
      "metadata": {
        "id": "rgKnB4vbBLo5"
      },
      "source": [
        "# Import the raw data"
      ]
    },
    {
      "cell_type": "code",
      "metadata": {
        "id": "8OIN-PewzoTw"
      },
      "source": [
        "data = open(\"train_data.txt\", 'r').readlines()"
      ],
      "execution_count": 8,
      "outputs": []
    },
    {
      "cell_type": "markdown",
      "metadata": {
        "id": "QJNw04jtBS1y"
      },
      "source": [
        "# Creating the dataframe"
      ]
    },
    {
      "cell_type": "code",
      "metadata": {
        "id": "NHuHqpE7ztHe"
      },
      "source": [
        "data = [d.replace('\\n','') for d in data]\r\n",
        "\r\n",
        "registro = data[0::8]\r\n",
        "id = data[1::8]\r\n",
        "dias = data[2::8]\r\n",
        "genero = data[3::8]\r\n",
        "edad = data[4::8]\r\n",
        "kids = data[5::8]\r\n",
        "pais = data[6::8]\r\n",
        "acomodacion = data[7::8]"
      ],
      "execution_count": 9,
      "outputs": []
    },
    {
      "cell_type": "code",
      "metadata": {
        "id": "Ht5BIXNlzxo-"
      },
      "source": [
        "table = pd.DataFrame(list(zip(id,dias,genero,edad,kids,pais,acomodacion)),index=None,\r\n",
        "columns=['Id','Dias','Genero','Edad','Niños','Pais','Acomodacion'])"
      ],
      "execution_count": 10,
      "outputs": []
    },
    {
      "cell_type": "markdown",
      "metadata": {
        "id": "MIK7abRRDXGW"
      },
      "source": [
        "# Fixing the NaN values"
      ]
    },
    {
      "cell_type": "code",
      "metadata": {
        "id": "Sq_e_avDz1vX"
      },
      "source": [
        "table = table.replace(['<NA>'],np.nan)"
      ],
      "execution_count": 12,
      "outputs": []
    },
    {
      "cell_type": "markdown",
      "metadata": {
        "id": "vgek2GRFDfYU"
      },
      "source": [
        "# Export the data"
      ]
    },
    {
      "cell_type": "code",
      "metadata": {
        "id": "xeBtqIVr3cd1"
      },
      "source": [
        "table.to_csv('train.csv')"
      ],
      "execution_count": 14,
      "outputs": []
    }
  ]
}