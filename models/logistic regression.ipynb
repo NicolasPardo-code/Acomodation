{
  "nbformat": 4,
  "nbformat_minor": 0,
  "metadata": {
    "colab": {
      "name": "train.ipynb",
      "provenance": [],
      "collapsed_sections": [],
      "toc_visible": true
    },
    "kernelspec": {
      "name": "python3",
      "display_name": "Python 3"
    }
  },
  "cells": [
    {
      "cell_type": "markdown",
      "metadata": {
        "id": "6FgD_Jma3x8C"
      },
      "source": [
        "# Import libraries"
      ]
    },
    {
      "cell_type": "code",
      "metadata": {
        "id": "eZXZ-2_w6wXL"
      },
      "source": [
        "import pandas as pd\r\n",
        "from sklearn import metrics\r\n",
        "from sklearn.model_selection import train_test_split\r\n",
        "from sklearn.linear_model import LogisticRegression\r\n",
        "import numpy as np\r\n",
        "from sklearn import preprocessing"
      ],
      "execution_count": 6,
      "outputs": []
    },
    {
      "cell_type": "markdown",
      "metadata": {
        "id": "ruQljU0s33XE"
      },
      "source": [
        "# Import dataset"
      ]
    },
    {
      "cell_type": "code",
      "metadata": {
        "id": "PD8dEQZo8UBu"
      },
      "source": [
        "data = pd.read_csv('train.csv')"
      ],
      "execution_count": 7,
      "outputs": []
    },
    {
      "cell_type": "markdown",
      "metadata": {
        "id": "CO_sH32UsgA3"
      },
      "source": [
        "# Cleaning the data set\r\n"
      ]
    },
    {
      "cell_type": "code",
      "metadata": {
        "id": "SMd_WCQir-fo"
      },
      "source": [
        "data=data.drop(['Id'],axis=1)"
      ],
      "execution_count": 8,
      "outputs": []
    },
    {
      "cell_type": "code",
      "metadata": {
        "id": "D7BIsVCNsc-x"
      },
      "source": [
        "data['Edad'].fillna(value=data['Edad'].median(),inplace=True)"
      ],
      "execution_count": 9,
      "outputs": []
    },
    {
      "cell_type": "code",
      "metadata": {
        "id": "A2Gr5aHQvblx"
      },
      "source": [
        "data['Pais'].fillna(method='ffill',inplace=True)"
      ],
      "execution_count": 10,
      "outputs": []
    },
    {
      "cell_type": "code",
      "metadata": {
        "id": "ONdulNwRv69A"
      },
      "source": [
        "data['Niños'].fillna(method='ffill',inplace=True)"
      ],
      "execution_count": 11,
      "outputs": []
    },
    {
      "cell_type": "markdown",
      "metadata": {
        "id": "Z_Lv96WXOomt"
      },
      "source": [
        "# Removing categorical labels"
      ]
    },
    {
      "cell_type": "code",
      "metadata": {
        "id": "Pqn80k3KOwXx"
      },
      "source": [
        "le = preprocessing.LabelEncoder()\r\n",
        "data['Genero']=le.fit_transform(data['Genero'])\r\n",
        "data['Pais']=le.fit_transform(data['Pais'])\r\n",
        "data['Acomodacion']=le.fit_transform(data['Acomodacion'])"
      ],
      "execution_count": 12,
      "outputs": []
    },
    {
      "cell_type": "markdown",
      "metadata": {
        "id": "EcIvH_V44ICm"
      },
      "source": [
        "# *Split the data*"
      ]
    },
    {
      "cell_type": "code",
      "metadata": {
        "id": "DHCcdD5ksxne"
      },
      "source": [
        "featured_cols=['Dias','Genero','Edad','Niños','Pais']\r\n",
        "x = data[featured_cols]\r\n",
        "y = data.Acomodacion"
      ],
      "execution_count": 13,
      "outputs": []
    },
    {
      "cell_type": "code",
      "metadata": {
        "id": "_UfizRMOtxQW"
      },
      "source": [
        "X_train,X_test,Y_train,Y_test = train_test_split(x,y,test_size = 0.20, random_state = 100)"
      ],
      "execution_count": 14,
      "outputs": []
    },
    {
      "cell_type": "markdown",
      "metadata": {
        "id": "8F861OZk4m5c"
      },
      "source": [
        "# Building the model"
      ]
    },
    {
      "cell_type": "code",
      "metadata": {
        "id": "a2mAHMheuH0A",
        "colab": {
          "base_uri": "https://localhost:8080/"
        },
        "outputId": "eec70bef-166b-49df-e6fb-2c13eb3c4842"
      },
      "source": [
        "logreg = LogisticRegression()\r\n",
        "logreg.fit(X_train,Y_train)"
      ],
      "execution_count": 15,
      "outputs": [
        {
          "output_type": "execute_result",
          "data": {
            "text/plain": [
              "LogisticRegression(C=1.0, class_weight=None, dual=False, fit_intercept=True,\n",
              "                   intercept_scaling=1, l1_ratio=None, max_iter=100,\n",
              "                   multi_class='auto', n_jobs=None, penalty='l2',\n",
              "                   random_state=None, solver='lbfgs', tol=0.0001, verbose=0,\n",
              "                   warm_start=False)"
            ]
          },
          "metadata": {
            "tags": []
          },
          "execution_count": 15
        }
      ]
    },
    {
      "cell_type": "markdown",
      "metadata": {
        "id": "nyBFgDD041hL"
      },
      "source": [
        "# Evaluating the model "
      ]
    },
    {
      "cell_type": "code",
      "metadata": {
        "id": "W9C2tIHT44Ki"
      },
      "source": [
        "y_pred = logreg.predict(X_test)"
      ],
      "execution_count": 16,
      "outputs": []
    },
    {
      "cell_type": "code",
      "metadata": {
        "colab": {
          "base_uri": "https://localhost:8080/"
        },
        "id": "u0hLyluHu1c_",
        "outputId": "a853a071-5620-428c-c42a-c87225d4a2d0"
      },
      "source": [
        "logreg.score(X_test,Y_test)"
      ],
      "execution_count": 17,
      "outputs": [
        {
          "output_type": "execute_result",
          "data": {
            "text/plain": [
              "0.5683890577507599"
            ]
          },
          "metadata": {
            "tags": []
          },
          "execution_count": 17
        }
      ]
    },
    {
      "cell_type": "code",
      "metadata": {
        "colab": {
          "base_uri": "https://localhost:8080/"
        },
        "id": "uibiZlYzv5fT",
        "outputId": "67667f7b-717f-4abe-c637-f95451209e98"
      },
      "source": [
        "cnf_matrix = metrics.confusion_matrix(Y_test,y_pred)\r\n",
        "cnf_matrix"
      ],
      "execution_count": 18,
      "outputs": [
        {
          "output_type": "execute_result",
          "data": {
            "text/plain": [
              "array([[   0,  852],\n",
              "       [   0, 1122]])"
            ]
          },
          "metadata": {
            "tags": []
          },
          "execution_count": 18
        }
      ]
    },
    {
      "cell_type": "code",
      "metadata": {
        "colab": {
          "base_uri": "https://localhost:8080/"
        },
        "id": "OoZVkZEB6zmm",
        "outputId": "9084ab46-68bc-4f74-f13a-2e01011b56a9"
      },
      "source": [
        "y_pred.size"
      ],
      "execution_count": 33,
      "outputs": [
        {
          "output_type": "execute_result",
          "data": {
            "text/plain": [
              "1974"
            ]
          },
          "metadata": {
            "tags": []
          },
          "execution_count": 33
        }
      ]
    },
    {
      "cell_type": "code",
      "metadata": {
        "colab": {
          "base_uri": "https://localhost:8080/"
        },
        "id": "F9ftBDj95Lwt",
        "outputId": "75245a97-a19a-4da7-c18b-f291dde97d2e"
      },
      "source": [
        "np.count_nonzero(y_pred==1)"
      ],
      "execution_count": 32,
      "outputs": [
        {
          "output_type": "execute_result",
          "data": {
            "text/plain": [
              "1974"
            ]
          },
          "metadata": {
            "tags": []
          },
          "execution_count": 32
        }
      ]
    },
    {
      "cell_type": "markdown",
      "metadata": {
        "id": "dvVeVYse5Hkm"
      },
      "source": [
        "# Obsertvations\r\n",
        "\r\n",
        "The model always return 1 as result"
      ]
    }
  ]
}