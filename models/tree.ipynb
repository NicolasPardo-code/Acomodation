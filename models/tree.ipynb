{
  "nbformat": 4,
  "nbformat_minor": 0,
  "metadata": {
    "colab": {
      "name": "tree",
      "provenance": [],
      "toc_visible": true
    },
    "kernelspec": {
      "name": "python3",
      "display_name": "Python 3"
    }
  },
  "cells": [
    {
      "cell_type": "code",
      "metadata": {
        "id": "WOn0tMHSqvMu"
      },
      "source": [
        "import pandas as pd\r\n",
        "from sklearn import metrics\r\n",
        "from sklearn.model_selection import train_test_split\r\n",
        "from sklearn import tree\r\n",
        "from sklearn import preprocessing"
      ],
      "execution_count": 471,
      "outputs": []
    },
    {
      "cell_type": "markdown",
      "metadata": {
        "id": "IVv-WCuws0tv"
      },
      "source": [
        "# Importing the data set"
      ]
    },
    {
      "cell_type": "code",
      "metadata": {
        "id": "jKXm90CSrU-a"
      },
      "source": [
        "data = pd.read_csv('train.csv')"
      ],
      "execution_count": 472,
      "outputs": []
    },
    {
      "cell_type": "markdown",
      "metadata": {
        "id": "CO_sH32UsgA3"
      },
      "source": [
        "# Cleaning the data set\r\n"
      ]
    },
    {
      "cell_type": "code",
      "metadata": {
        "id": "MYpjQekbsVbM"
      },
      "source": [
        "acomodacion=data.Acomodacion"
      ],
      "execution_count": 473,
      "outputs": []
    },
    {
      "cell_type": "code",
      "metadata": {
        "id": "SMd_WCQir-fo"
      },
      "source": [
        "data=data.drop(['Id','Acomodacion','Pais','Dias'],axis=1)"
      ],
      "execution_count": 474,
      "outputs": []
    },
    {
      "cell_type": "code",
      "metadata": {
        "id": "D7BIsVCNsc-x"
      },
      "source": [
        "data['Edad'].fillna(value=data['Edad'].median(),inplace=True)"
      ],
      "execution_count": 475,
      "outputs": []
    },
    {
      "cell_type": "code",
      "metadata": {
        "id": "ONdulNwRv69A"
      },
      "source": [
        "data['Niños'].fillna(method='ffill',inplace=True)"
      ],
      "execution_count": 476,
      "outputs": []
    },
    {
      "cell_type": "markdown",
      "metadata": {
        "id": "P9LjtnJLwfs2"
      },
      "source": [
        "# Removing categorical labels\r\n"
      ]
    },
    {
      "cell_type": "code",
      "metadata": {
        "id": "-8DxURbwwfNG"
      },
      "source": [
        "le = preprocessing.LabelEncoder()\r\n",
        "data['Genero']=le.fit_transform(data['Genero'])"
      ],
      "execution_count": 477,
      "outputs": []
    },
    {
      "cell_type": "markdown",
      "metadata": {
        "id": "8wrtLeix0vSf"
      },
      "source": [
        "# Split the data"
      ]
    },
    {
      "cell_type": "code",
      "metadata": {
        "id": "fQMBX7rO01dT"
      },
      "source": [
        "X_train,X_test,Y_train,Y_test = train_test_split(data,acomodacion,test_size=0.20,random_state = 0)"
      ],
      "execution_count": 478,
      "outputs": []
    },
    {
      "cell_type": "markdown",
      "metadata": {
        "id": "gNOd7LzI0ov-"
      },
      "source": [
        "#Training the model"
      ]
    },
    {
      "cell_type": "code",
      "metadata": {
        "id": "xf8ZUJWy0DTz"
      },
      "source": [
        "dt = tree.DecisionTreeClassifier()\r\n",
        "dt = dt.fit(X_train,Y_train)"
      ],
      "execution_count": 479,
      "outputs": []
    },
    {
      "cell_type": "code",
      "metadata": {
        "id": "1tn_a-5d2F77"
      },
      "source": [
        "pred = dt.predict(X_test)"
      ],
      "execution_count": 480,
      "outputs": []
    },
    {
      "cell_type": "code",
      "metadata": {
        "colab": {
          "base_uri": "https://localhost:8080/"
        },
        "id": "VfwAIXSK2-xN",
        "outputId": "ac0b7aef-67c7-403d-fbdb-1e4704d83702"
      },
      "source": [
        "round(dt.score(X_test,Y_test),3)"
      ],
      "execution_count": 481,
      "outputs": [
        {
          "output_type": "execute_result",
          "data": {
            "text/plain": [
              "0.786"
            ]
          },
          "metadata": {
            "tags": []
          },
          "execution_count": 481
        }
      ]
    },
    {
      "cell_type": "code",
      "metadata": {
        "colab": {
          "base_uri": "https://localhost:8080/"
        },
        "id": "TufqKRVh2oxk",
        "outputId": "63637f1e-457b-4caf-fd29-aef6c97f8a45"
      },
      "source": [
        "cnf_matrix = metrics.confusion_matrix(Y_test,pred)\r\n",
        "cnf_matrix"
      ],
      "execution_count": 482,
      "outputs": [
        {
          "output_type": "execute_result",
          "data": {
            "text/plain": [
              "array([[695, 153],\n",
              "       [269, 857]])"
            ]
          },
          "metadata": {
            "tags": []
          },
          "execution_count": 482
        }
      ]
    }
  ]
}